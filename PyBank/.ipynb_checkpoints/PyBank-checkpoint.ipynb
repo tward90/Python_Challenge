{
 "cells": [
  {
   "cell_type": "code",
   "execution_count": 1,
   "metadata": {},
   "outputs": [],
   "source": [
    "#Import necessary Dependencies\n",
    "import os\n",
    "import csv"
   ]
  },
  {
   "cell_type": "code",
   "execution_count": 2,
   "metadata": {},
   "outputs": [],
   "source": [
    "#Direct to location of data\n",
    "data = os.path.join(\"Resources\", \"budget_data.csv\")"
   ]
  },
  {
   "cell_type": "code",
   "execution_count": 3,
   "metadata": {},
   "outputs": [],
   "source": [
    "#Open data\n",
    "with open(data, mode='r') as csv_file:\n",
    "    csv_reader = csv.DictReader(csv_file)\n",
    "# Initialize counter totals\n",
    "    total_months = 0\n",
    "    total_profit = 0\n",
    "# Create new PL List for Change Calculations\n",
    "    pl_list = []\n",
    "    date_list = []\n",
    "# Create for loop to assign correct data type as wel as append profit/loss to secondary list\n",
    "    for row in csv_reader:\n",
    "        Profit = int(row[\"Profit/Losses\"])\n",
    "        pl_list.append(Profit)\n",
    "        Date = row[\"Date\"]\n",
    "        date_list.append(Date)\n",
    "        total_months = total_months + 1\n",
    "        total_profit = total_profit + Profit\n",
    "        "
   ]
  },
  {
   "cell_type": "code",
   "execution_count": 4,
   "metadata": {},
   "outputs": [
    {
     "name": "stdout",
     "output_type": "stream",
     "text": [
      "86\n",
      "38382578\n",
      "-2315.1176470588234\n"
     ]
    }
   ],
   "source": [
    "#calculate the average of the month-to-month changes\n",
    "delta = [j - i for i, j in zip(pl_list[:-1], pl_list[1:])]\n",
    "total = sum(delta)\n",
    "avg_delta = total / len(delta)"
   ]
  },
  {
   "cell_type": "code",
   "execution_count": 5,
   "metadata": {},
   "outputs": [],
   "source": [
    "Max_p = max(delta)\n",
    "Min_p = min(delta)\n",
    "delta.insert(0, 0)"
   ]
  },
  {
   "cell_type": "code",
   "execution_count": 21,
   "metadata": {},
   "outputs": [
    {
     "name": "stdout",
     "output_type": "stream",
     "text": [
      "<class 'dict'>\n"
     ]
    }
   ],
   "source": [
    "date_delta = dict(zip(date_list, delta))"
   ]
  },
  {
   "cell_type": "code",
   "execution_count": 27,
   "metadata": {},
   "outputs": [
    {
     "name": "stdout",
     "output_type": "stream",
     "text": [
      "Feb-2012\n",
      "1926159\n"
     ]
    }
   ],
   "source": [
    "max_key = max(date_delta, key=date_delta.get)\n",
    "print(max_key)\n",
    "print(max(delta))\n",
    "#     max_delta = max(v)\n",
    "#     print(max_delta)"
   ]
  },
  {
   "cell_type": "code",
   "execution_count": 28,
   "metadata": {},
   "outputs": [
    {
     "name": "stdout",
     "output_type": "stream",
     "text": [
      "Sep-2013\n",
      "-2196167\n"
     ]
    }
   ],
   "source": [
    "min_key = min(date_delta, key=date_delta.get)\n",
    "print(min_key)\n",
    "print(min(delta))"
   ]
  },
  {
   "cell_type": "code",
   "execution_count": 60,
   "metadata": {},
   "outputs": [
    {
     "name": "stdout",
     "output_type": "stream",
     "text": [
      "Financial Analysis\n",
      "*************************************\n",
      "Total Months: 86\n",
      "Total: $38382578\n",
      "Average Change: $-2315.12\n",
      "Greatest Increase in Profits: Feb-2012 $1926159\n",
      "Greatest Decrease in Profits: Sep-2013 $-2196167\n",
      "*************************************\n"
     ]
    }
   ],
   "source": [
    "print(\"Financial Analysis\")\n",
    "print(\"*************************************\")\n",
    "print(\"Total Months: \" + str(total_months))\n",
    "print(\"Total: $\" + str(total_profit))\n",
    "print(\"Average Change: $\" + str(round(avg_delta,2)))\n",
    "print(\"Greatest Increase in Profits: \" + max_key + \" $\" + str(max(delta)))\n",
    "print(\"Greatest Decrease in Profits: \" + min_key + \" $\" + str(min(delta)))\n",
    "print(\"*************************************\")"
   ]
  },
  {
   "cell_type": "code",
   "execution_count": null,
   "metadata": {},
   "outputs": [],
   "source": [
    "\"Total Months: \" + str(total_months)\n",
    "\"Total: $\" + str(total_profit)\n",
    "\"Average Change: $\" + str(avg_delta)\n",
    "\"Greatest Increase in Profits: $\" + max_key + \" \" + str(max(delta))\n",
    "\"Greatest Decrease in Profits:\" + min_key + \" $\" + str(min(delta))"
   ]
  }
 ],
 "metadata": {
  "kernelspec": {
   "display_name": "Python 3",
   "language": "python",
   "name": "python3"
  },
  "language_info": {
   "codemirror_mode": {
    "name": "ipython",
    "version": 3
   },
   "file_extension": ".py",
   "mimetype": "text/x-python",
   "name": "python",
   "nbconvert_exporter": "python",
   "pygments_lexer": "ipython3",
   "version": "3.7.4"
  }
 },
 "nbformat": 4,
 "nbformat_minor": 2
}
