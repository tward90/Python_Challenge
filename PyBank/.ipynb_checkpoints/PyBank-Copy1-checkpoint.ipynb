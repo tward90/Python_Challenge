{
 "cells": [
  {
   "cell_type": "code",
   "execution_count": 10,
   "metadata": {},
   "outputs": [],
   "source": [
    "#Import necessary Dependencies\n",
    "import os\n",
    "import csv"
   ]
  },
  {
   "cell_type": "code",
   "execution_count": 11,
   "metadata": {},
   "outputs": [],
   "source": [
    "#Direct to location of data\n",
    "data = os.path.join(\"Resources\", \"budget_data.csv\")"
   ]
  },
  {
   "cell_type": "code",
   "execution_count": 12,
   "metadata": {},
   "outputs": [],
   "source": [
    "#Open data\n",
    "with open(data, mode='r') as csv_file:\n",
    "    csv_reader = csv.DictReader(csv_file)\n",
    "# Initialize counter totals\n",
    "    total_months = 0\n",
    "    total_profit = 0\n",
    "# Create new PL List for Change Calculations\n",
    "    pl_list = []\n",
    "    date_list = []\n",
    "# Create for loop to assign correct data type as wel as append profit/loss and Date to secondary lists\n",
    "    for row in csv_reader:\n",
    "        Profit = int(row[\"Profit/Losses\"])\n",
    "        pl_list.append(Profit)\n",
    "        Date = row[\"Date\"]\n",
    "        date_list.append(Date)\n",
    "        total_months = total_months + 1\n",
    "        total_profit = total_profit + Profit\n",
    "        "
   ]
  },
  {
   "cell_type": "code",
   "execution_count": 13,
   "metadata": {},
   "outputs": [],
   "source": [
    "#calculate the average of the month-to-month changes\n",
    "delta = [j - i for i, j in zip(pl_list[:-1], pl_list[1:])]\n",
    "total = sum(delta)\n",
    "avg_delta = total / len(delta)"
   ]
  },
  {
   "cell_type": "code",
   "execution_count": 14,
   "metadata": {},
   "outputs": [],
   "source": [
    "#Insert Value of 0 to beginning of delta list to account for mising value for first month before zipping\n",
    "delta.insert(0, 0)"
   ]
  },
  {
   "cell_type": "code",
   "execution_count": 15,
   "metadata": {},
   "outputs": [],
   "source": [
    "#Create dictionary of months and associated delta's in order to refer to them\n",
    "date_delta = dict(zip(date_list, delta))"
   ]
  },
  {
   "cell_type": "code",
   "execution_count": 16,
   "metadata": {},
   "outputs": [],
   "source": [
    "#Find Maximum and Minimum profit in our dictionary\n",
    "max_key = max(date_delta, key=date_delta.get)\n",
    "min_key = min(date_delta, key=date_delta.get)"
   ]
  },
  {
   "cell_type": "code",
   "execution_count": 18,
   "metadata": {},
   "outputs": [
    {
     "name": "stdout",
     "output_type": "stream",
     "text": [
      "Financial Analysis\n",
      "*************************************\n",
      "Total Months: 86\n",
      "Total: $38382578\n",
      "Average Change: $-2315.12\n",
      "Greatest Increase in Profits: Feb-2012 $1926159\n",
      "Greatest Decrease in Profits: Sep-2013 $-2196167\n",
      "*************************************\n"
     ]
    }
   ],
   "source": [
    "#Print Financial Analysis Table of Findings\n",
    "print(\"Financial Analysis\")\n",
    "print(\"*************************************\")\n",
    "print(\"Total Months: \" + str(total_months))\n",
    "print(\"Total: $\" + str(total_profit))\n",
    "print(\"Average Change: $\" + str(round(avg_delta,2)))\n",
    "print(\"Greatest Increase in Profits: \" + max_key + \" $\" + str(max(delta)))\n",
    "print(\"Greatest Decrease in Profits: \" + min_key + \" $\" + str(min(delta)))\n",
    "print(\"*************************************\")"
   ]
  },
  {
   "cell_type": "code",
   "execution_count": null,
   "metadata": {},
   "outputs": [],
   "source": []
  }
 ],
 "metadata": {
  "kernelspec": {
   "display_name": "Python 3",
   "language": "python",
   "name": "python3"
  },
  "language_info": {
   "codemirror_mode": {
    "name": "ipython",
    "version": 3
   },
   "file_extension": ".py",
   "mimetype": "text/x-python",
   "name": "python",
   "nbconvert_exporter": "python",
   "pygments_lexer": "ipython3",
   "version": "3.7.4"
  }
 },
 "nbformat": 4,
 "nbformat_minor": 2
}
