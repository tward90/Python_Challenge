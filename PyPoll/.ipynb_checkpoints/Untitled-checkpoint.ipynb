{
 "cells": [
  {
   "cell_type": "code",
   "execution_count": 7,
   "metadata": {},
   "outputs": [
    {
     "name": "stdout",
     "output_type": "stream",
     "text": [
      "['Khan', 'Correy', 'Li', \"O'Tooley\"]\n",
      "3521001\n",
      "63.0\n",
      "20.0\n",
      "14.0\n",
      "3.0\n",
      "Khan\n"
     ]
    }
   ],
   "source": [
    "#Import necessary Dependencies\n",
    "import os\n",
    "import csv\n",
    "#Direct to location of data\n",
    "voter_data = os.path.join(\"Resources\", \"election_data.csv\")\n",
    "# Initialize Total Vote Counter\n",
    "total_votes = 0\n",
    "khan_votes = 0\n",
    "correy_votes = 0\n",
    "li_votes = 0\n",
    "otooley_votes = 0\n",
    "candidates = []\n",
    "# voter_list = []\n",
    "#Open data\n",
    "with open(voter_data) as csvfile:\n",
    "    csv_reader = csv.reader(csvfile, delimiter=\",\")\n",
    "#Skip the header\n",
    "    header = next(csv_reader)\n",
    "    for row in csv_reader:\n",
    "#Ensure one vote per voter\n",
    "#         if row[0] not in voter_list:\n",
    "#             voter_list.append(row[0])\n",
    "#         else:\n",
    "#             next\n",
    "#Create unique list of candidates\n",
    "        if row[2] not in candidates:\n",
    "            candidates.append(row[2])  \n",
    "#Create candidate specific vote count\n",
    "        if row[2] == \"Khan\":\n",
    "            khan_votes = khan_votes + 1\n",
    "        if row[2] == \"Correy\":\n",
    "            correy_votes = correy_votes + 1\n",
    "        if row[2] == \"Li\":\n",
    "            li_votes = li_votes + 1\n",
    "        if row[2] == \"O'Tooley\":\n",
    "            otooley_votes = otooley_votes + 1\n",
    "#Count total number of votes\n",
    "        total_votes = total_votes + 1\n",
    "#Calculate candidate percentages\n",
    "khan_percent = round((100 * (khan_votes / total_votes)),3)\n",
    "correy_percent = round((100 * (correy_votes / total_votes)),3)\n",
    "li_percent = round((100 * (li_votes / total_votes)),3)\n",
    "otooley_percent = round((100 * (otooley_votes / total_votes)),3)\n",
    "#Create a List of percentages\n",
    "vote_percent = [khan_percent, correy_percent, li_percent, otooley_percent]\n",
    "candidate_percent = dict(zip(candidates, vote_percent))\n",
    "Winner = max(candidate_percent, key=candidate_percent.get)\n",
    "print(candidates)\n",
    "print(total_votes)\n",
    "print(khan_percent)\n",
    "print(correy_percent)\n",
    "print(li_percent)\n",
    "print(otooley_percent)\n",
    "print(Winner)"
   ]
  }
 ],
 "metadata": {
  "kernelspec": {
   "display_name": "Python 3",
   "language": "python",
   "name": "python3"
  },
  "language_info": {
   "codemirror_mode": {
    "name": "ipython",
    "version": 3
   },
   "file_extension": ".py",
   "mimetype": "text/x-python",
   "name": "python",
   "nbconvert_exporter": "python",
   "pygments_lexer": "ipython3",
   "version": "3.7.4"
  }
 },
 "nbformat": 4,
 "nbformat_minor": 2
}
